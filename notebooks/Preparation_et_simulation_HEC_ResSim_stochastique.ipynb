{
 "cells": [
  {
   "cell_type": "markdown",
   "metadata": {},
   "source": [
    "# Préparation des intrants et simulations à large échelle dans HEC-ResSim"
   ]
  },
  {
   "cell_type": "markdown",
   "metadata": {},
   "source": [
    "### Réalisé par Sébastien Langlois"
   ]
  },
  {
   "cell_type": "code",
   "execution_count": 1,
   "metadata": {},
   "outputs": [],
   "source": [
    "dss_directory = '/media/slanglois/ssd-2tb/laminage/dss/*.dss'\n",
    "csv_directory = '/media/slanglois/ssd-2tb/laminage/csv/*.csv'\n",
    "output_path_dss = '/media/slanglois/ssd-2tb/laminage/dss/'\n",
    "output_path_alt = '/media/slanglois/ssd-2tb/laminage/alternatives'\n",
    "\n",
    "type_series = 'STO'\n",
    "\n",
    "nom_BV_hec=['Inflow Mitchinamecus','Inflow Kiamika','Inflow Mont-Laurier',\n",
    "    'Inflow Cedar','Inflow High Falls','Inflow Petite Nation','Inflow Masson',\n",
    "    'Inflow Rideau','Inflow South Nation','Inflow Cabonga','Inflow Baskatong',\n",
    "    'Inflow Paugan','Inflow Arnprior','Inflow Mountain Chute','Inflow Kamaniskeg',\n",
    "    'Inflow Bark Lake','Inflow Dumoine','Inflow Mattawa',\n",
    "    'Inflow Joachims','Inflow Otto Holden','Inflow Kipawa','Inflow Dozois',\n",
    "    'Inflow Victoria','Inflow Rapide 7','Inflow Rapide 2','Inflow Rabbit Lake',\n",
    "    'Inflow Lower Notch','Inflow Lady Evelyn','Inflow Mistinikon','Inflow Blanche',\n",
    "    'Inflow Temiscamingue','Inflow Maniwaki','Inflow Chelsea','Inflow Carillon',\n",
    "    'Inflow Kinojevis','Inflow des Quinze (Anglier)','Inflow Petawawa','Inflow Chenaux et Noire',\n",
    "    'Inflow Coulonge','Inflow Bonnechere','Inflow Chat Falls','Inflow Mississippi',\n",
    "    'Inflow Rouge']\n",
    "\n",
    "nom_BV_dss = ['MITCHINAMECUS','KIAMIKA','MONT-LAURIER','LAC DU POISSON BLANC',\n",
    "    'HIGH FALLS','RIVIERE PETITE NATION','MASSON','RIVIERE RIDEAU',\n",
    "    'RIVIERE SOUTH NATION','CABONGA','BASKATONG','PAUGAN',\n",
    "    'MADAWASKA-ARNPRIOR','MOUNTAIN CHUTE','KAMANISKEG','BARK LAKE',\n",
    "    'RIVIERE DUMOINE','RIVIERE MATTAWA','DES JOACHIMS','OTTO HOLDEN',\n",
    "    'KIPAWA','DOZOIS','LAC VICTORIA ET LAC GRANET','RAPIDE 7',\n",
    "    'RAPIDE 2','RABBIT LAKE','LOWER NOTCH ET INDIAN CHUTE','LADY EVELYN',\n",
    "    'MISTINIKON','RIVIERE BLANCHE','LAC TEMISCAMINGUE A ANGLIERS','MANIWAKI',\n",
    "    'CHELSEA','CARILLON ET HULL','RIVIERE KINOJEVIS','LAC DES QUINZE',\n",
    "    'RIVIERE PETAWAWA','CHENAUX ET NOIRE','RIVIERE COULONGE','RIVIERE BONNECHERE',\n",
    "    'CHUTE-DES-CHATS','RIVIERE MISSISSIPPI','RIVIERE ROUGE']\n",
    "\n",
    "keys_link = dict(zip(nom_BV_hec, nom_BV_dss))\n",
    "\n",
    "reseau_euler = False"
   ]
  },
  {
   "cell_type": "markdown",
   "metadata": {},
   "source": [
    " "
   ]
  },
  {
   "cell_type": "code",
   "execution_count": 2,
   "metadata": {},
   "outputs": [],
   "source": [
    "import pandas as pd\n",
    "import glob\n",
    "import sys\n",
    "import os\n",
    "from dask.distributed import Client, progress\n",
    "import dask\n",
    "from dask_jobqueue import SLURMCluster\n",
    "from dask.diagnostics import ProgressBar\n",
    "\n",
    "# Local functions\n",
    "sys.path.append(os.path.abspath(os.path.join('..')))\n",
    "import laminage as lm"
   ]
  },
  {
   "cell_type": "code",
   "execution_count": 3,
   "metadata": {},
   "outputs": [
    {
     "data": {
      "text/html": [
       "<table style=\"border: 2px solid white;\">\n",
       "<tr>\n",
       "<td style=\"vertical-align: top; border: 0px solid white\">\n",
       "<h3 style=\"text-align: left;\">Client</h3>\n",
       "<ul style=\"text-align: left; list-style: none; margin: 0; padding: 0;\">\n",
       "  <li><b>Scheduler: </b>tcp://127.0.0.1:33839</li>\n",
       "  <li><b>Dashboard: </b><a href='http://127.0.0.1:8787/status' target='_blank'>http://127.0.0.1:8787/status</a></li>\n",
       "</ul>\n",
       "</td>\n",
       "<td style=\"vertical-align: top; border: 0px solid white\">\n",
       "<h3 style=\"text-align: left;\">Cluster</h3>\n",
       "<ul style=\"text-align: left; list-style:none; margin: 0; padding: 0;\">\n",
       "  <li><b>Workers: </b>8</li>\n",
       "  <li><b>Cores: </b>32</li>\n",
       "  <li><b>Memory: </b>135.11 GB</li>\n",
       "</ul>\n",
       "</td>\n",
       "</tr>\n",
       "</table>"
      ],
      "text/plain": [
       "<Client: 'tcp://127.0.0.1:33839' processes=8 threads=32, memory=135.11 GB>"
      ]
     },
     "execution_count": 3,
     "metadata": {},
     "output_type": "execute_result"
    }
   ],
   "source": [
    "if reseau_euler:\n",
    "    # à modifier lorsque dans le réseau Euler/Euler2\n",
    "    cluster = SLURMCluster(cores=8,\n",
    "                           processes=4,\n",
    "                           memory=\"16GB\",\n",
    "                           project=\"woodshole\",\n",
    "                           walltime=\"01:00:00\",\n",
    "                           queue=\"normal\")\n",
    "    client = Client(cluster)\n",
    "else:\n",
    "    client = Client()\n",
    "\n",
    "client"
   ]
  },
  {
   "cell_type": "markdown",
   "metadata": {},
   "source": [
    "## Conversion des fichiers csv vers dss"
   ]
  },
  {
   "cell_type": "code",
   "execution_count": null,
   "metadata": {},
   "outputs": [],
   "source": [
    "lazy_results = [dask.delayed(lm.csv_to_dss)(filename, output_path) \n",
    "                for filename in glob.glob(csv_directory)]\n",
    "dask.compute(*lazy_results)"
   ]
  },
  {
   "cell_type": "markdown",
   "metadata": {},
   "source": [
    "## Conversion des fichiers dss vers les alternatives"
   ]
  },
  {
   "cell_type": "code",
   "execution_count": 4,
   "metadata": {},
   "outputs": [],
   "source": [
    "alternatives_obj_list = [lm.CreationAlternative(dss_filename, output_path, type_series, keys_link) \n",
    "                         for dss_filename in glob.glob(dss_directory)]\n",
    "\n",
    "lazy_results = [dask.delayed(alternative.create_all())\n",
    "                for alternative in alternatives_obj_list]\n",
    "dask.compute(*lazy_results)"
   ]
  }
 ],
 "metadata": {
  "kernelspec": {
   "display_name": "laminage",
   "language": "python",
   "name": "laminage"
  },
  "language_info": {
   "codemirror_mode": {
    "name": "ipython",
    "version": 3
   },
   "file_extension": ".py",
   "mimetype": "text/x-python",
   "name": "python",
   "nbconvert_exporter": "python",
   "pygments_lexer": "ipython3",
   "version": "3.7.6"
  }
 },
 "nbformat": 4,
 "nbformat_minor": 2
}
