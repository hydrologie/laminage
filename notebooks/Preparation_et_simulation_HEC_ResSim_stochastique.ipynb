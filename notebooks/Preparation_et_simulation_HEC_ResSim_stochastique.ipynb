{
 "cells": [
  {
   "cell_type": "markdown",
   "metadata": {},
   "source": [
    "# Préparation des intrants et simulations à large échelle dans HEC-ResSim"
   ]
  },
  {
   "cell_type": "markdown",
   "metadata": {},
   "source": [
    "### Réalisé par Sébastien Langlois"
   ]
  },
  {
   "cell_type": "code",
   "execution_count": 1,
   "metadata": {},
   "outputs": [],
   "source": [
    "import os\n",
    "\n",
    "project_path = '/home/slanglois/.wine/drive_c/users/Public/Documents/projet'\n",
    "\n",
    "csv_directory = os.path.join(project_path,'01_Intrants/Series_stochastiques/csv/*.csv')\n",
    "\n",
    "source_model_folder = os.path.join(project_path,\n",
    "                         '02_Calculs/Laminage_STO/01_Modele_ResSIM_reference')\n",
    "\n",
    "source_config_file = os.path.join(project_path,\n",
    "                         '02_Calculs/Laminage_STO/01_Modele_ResSIM_reference/rss.conf')\n",
    "ralt_file = os.path.join(project_path,\n",
    "                         '02_Calculs/Laminage_STO/01_Modele_ResSIM_reference/base/Outaouais_long/inputs/10P07BV.ralt')\n",
    "\n",
    "type_series = 'STO'\n",
    "\n",
    "nom_BV_hec=['Inflow Mitchinamecus','Inflow Kiamika','Inflow Mont-Laurier',\n",
    "    'Inflow Cedar','Inflow High Falls','Inflow Petite Nation','Inflow Masson',\n",
    "    'Inflow Rideau','Inflow South Nation','Inflow Cabonga','Inflow Baskatong',\n",
    "    'Inflow Paugan','Inflow Arnprior','Inflow Mountain Chute','Inflow Kamaniskeg',\n",
    "    'Inflow Bark Lake','Inflow Dumoine','Inflow Mattawa',\n",
    "    'Inflow Joachims','Inflow Otto Holden','Inflow Kipawa','Inflow Dozois',\n",
    "    'Inflow Victoria','Inflow Rapide 7','Inflow Rapide 2','Inflow Rabbit Lake',\n",
    "    'Inflow Lower Notch','Inflow Lady Evelyn','Inflow Mistinikon','Inflow Blanche',\n",
    "    'Inflow Temiscamingue','Inflow Maniwaki','Inflow Chelsea','Inflow Carillon',\n",
    "    'Inflow Kinojevis','Inflow des Quinze (Anglier)','Inflow Petawawa','Inflow Chenaux et Noire',\n",
    "    'Inflow Coulonge','Inflow Bonnechere','Inflow Chat Falls','Inflow Mississippi',\n",
    "    'Inflow Rouge']\n",
    "\n",
    "nom_BV_dss = ['MITCHINAMECUS','KIAMIKA','MONT-LAURIER','LAC DU POISSON BLANC',\n",
    "    'HIGH FALLS','RIVIERE PETITE NATION','MASSON','RIVIERE RIDEAU',\n",
    "    'RIVIERE SOUTH NATION','CABONGA','BASKATONG','PAUGAN',\n",
    "    'MADAWASKA-ARNPRIOR','MOUNTAIN CHUTE','KAMANISKEG','BARK LAKE',\n",
    "    'RIVIERE DUMOINE','RIVIERE MATTAWA','DES JOACHIMS','OTTO HOLDEN',\n",
    "    'KIPAWA','DOZOIS','LAC VICTORIA ET LAC GRANET','RAPIDE-7',\n",
    "    'RAPIDE-2','RABBIT LAKE','LOWER NOTCH ET INDIAN CHUTE','LADY EVELYN',\n",
    "    'MISTINIKON','RIVIERE BLANCHE','LAC TEMISCAMINGUE A ANGLIERS','MANIWAKI',\n",
    "    'CHELSEA','CARILLON ET HULL','RIVIERE KINOJEVIS','LAC DES QUINZE',\n",
    "    'RIVIERE PETAWAWA','CHENAUX ET NOIRE','RIVIERE COULONGE','RIVIERE BONNECHERE',\n",
    "    'CHUTE-DES-CHATS','RIVIERE MISSISSIPPI','RIVIERE ROUGE']\n",
    "\n",
    "reservoir_list = ['ANGLIERS','BARK LAKE','BASKATONG','BRYSON',\n",
    "                  'CABONGA','CARILLON','CEDAR RAPID','CHAT FALLS',\n",
    "                  'CHELSEA','CHENAUX','CHUTE BELL','DES JOACHIMS',\n",
    "                  'DOZOIS','FARMERS','HIGH FALLS','HULL 2','KAMANISKEG',\n",
    "                  'KIAMIKA','KIPAWA','LAC VICTORIA','LADY EVELYN',\n",
    "                  'LOWER NOTCH','MISTINIKON','MITCHINAMECUS',\n",
    "                  'MOUNTAIN CHUTE','OTTO HOLDEN','PAUGAN','PREMIERE CHUTE',\n",
    "                  'RABBIT LAKE','RAPIDE 15','RAPIDE 2','RAPIDE 7','RAPIDE DES ILES',\n",
    "                  'TEMISCAMINGUE']\n",
    "\n",
    "variable_type_list = ['FLOW-IN','FLOW-OUT','ELEV']\n",
    "\n",
    "keys_link = dict(zip(nom_BV_hec, nom_BV_dss))\n",
    "\n",
    "routing_config = {'type_series':type_series,\n",
    "                  'keys_link':keys_link,\n",
    "                  'source_ralt_file':ralt_file,\n",
    "                  'source_config_file':source_config_file,\n",
    "                  'reservoir_list':reservoir_list,\n",
    "                  'variable_type_list':variable_type_list}\n",
    "\n",
    "\n",
    "cluster_config = False"
   ]
  },
  {
   "cell_type": "markdown",
   "metadata": {},
   "source": [
    " "
   ]
  },
  {
   "cell_type": "code",
   "execution_count": 2,
   "metadata": {},
   "outputs": [],
   "source": [
    "from dask.distributed import Client, progress\n",
    "from dask_jobqueue import SLURMCluster\n",
    "import sys\n",
    "import numpy as np\n",
    "\n",
    "# Local functions\n",
    "sys.path.append(os.path.abspath(os.path.join('..')))\n",
    "import laminage as lm"
   ]
  },
  {
   "cell_type": "markdown",
   "metadata": {},
   "source": [
    "## Client Dask"
   ]
  },
  {
   "cell_type": "code",
   "execution_count": 3,
   "metadata": {},
   "outputs": [
    {
     "data": {
      "application/vnd.jupyter.widget-view+json": {
       "model_id": "3452e0cf16df4e998f97f8580dfa8196",
       "version_major": 2,
       "version_minor": 0
      },
      "text/plain": [
       "VBox(children=(HTML(value='<h2>LocalCluster</h2>'), HBox(children=(HTML(value='\\n<div>\\n  <style scoped>\\n    …"
      ]
     },
     "metadata": {},
     "output_type": "display_data"
    }
   ],
   "source": [
    "# change to SLURMCluster for distributed calculation\n",
    "\n",
    "client =  Client()\n",
    "client.cluster"
   ]
  },
  {
   "cell_type": "code",
   "execution_count": 4,
   "metadata": {},
   "outputs": [],
   "source": [
    "bm = lm.BaseManager(project_path=project_path)"
   ]
  },
  {
   "cell_type": "code",
   "execution_count": null,
   "metadata": {},
   "outputs": [],
   "source": [
    "# results = bm.csv_to_dss(csv_directory=csv_directory,\n",
    "#                         client=client)\n",
    "# progress(results)"
   ]
  },
  {
   "cell_type": "markdown",
   "metadata": {},
   "source": [
    "# Création des alternatives"
   ]
  },
  {
   "cell_type": "code",
   "execution_count": null,
   "metadata": {},
   "outputs": [],
   "source": [
    "# for idx, alt in enumerate([\"{:07d}\".format(alt) + '.dss' for alt in np.arange(1,101)]):\n",
    "\n",
    "#     alt = lm.CreationAlternative(dss_filename=os.path.join(test_path ,'base/Outaouais_long/rss', alt),\n",
    "#                               output_path=os.path.join(test_path ,'base/Outaouais_long/rss'),\n",
    "#                               type_series=type_series,\n",
    "#                               keys_link=keys_link)\n",
    "#     if idx == 0:\n",
    "#         alt.create_config_from(source_config_file)\n",
    "    \n",
    "#     alt.add_alternative(ralt_file=ralt_file)\n"
   ]
  },
  {
   "cell_type": "code",
   "execution_count": null,
   "metadata": {},
   "outputs": [],
   "source": [
    "# import glob\n",
    "\n",
    "# dss_path = os.path.join(project_path,\n",
    "#              '01_Intrants',\n",
    "#              'Series_stochastiques',\n",
    "#              'dss')\n",
    "\n",
    "# output_path = os.path.join(project_path,\n",
    "#                            '02_Calculs',\n",
    "#                            'Laminage_STO',\n",
    "#                            '02_Bases')\n",
    "\n",
    "# dss_list = sorted(glob.glob(os.path.join(dss_path, '*.dss')))\n",
    "\n",
    "# chunks = [dss_list[x:x + 100] for x in range(0, len(dss_list), 100)]\n",
    "\n",
    "# idx = 0"
   ]
  },
  {
   "cell_type": "code",
   "execution_count": null,
   "metadata": {},
   "outputs": [],
   "source": [
    "# bm.run_partial_base(chunks[1],\n",
    "#                     os.path.join(output_path,\n",
    "#                                  \"b{:06d}\".format(idx + 2)),\n",
    "#                     routing_config, \n",
    "#                     csv_output_path = '/media/slanglois/seagate4tb/laminage/02_Bases/03_Resultats')"
   ]
  },
  {
   "cell_type": "code",
   "execution_count": null,
   "metadata": {},
   "outputs": [],
   "source": [
    "# from pathlib import Path\n",
    "# import glob\n",
    "\n",
    "# result = list(Path(output_path).rglob(\"study\"))\n",
    "# complete_output_path = os.path.realpath(str(result[0]).split('study')[0])\n",
    "\n",
    "# # [os.remove(f) for f in glob.glob(os.path.join(complete_output_path, 'shared', '*.dss'))]\n",
    "\n",
    "# # # Add .dss files to shared and renumber from 000001 to match reference HEC ResSim base\n",
    "# # min_sim_number = int(os.path.basename(dss_list[0]).split('.')[0]) - 1\n",
    "# # [shutil.copy2(dss_filename, os.path.join(complete_output_path, 'shared',\n",
    "# #                                          \"{:07d}\".format(int(os.path.basename(dss_filename).split('.')[\n",
    "# #                                                                  0]) - min_sim_number) + '.dss'))\n",
    "# #  for dss_filename in dss_list]\n",
    "\n",
    "# # TODO : update simulation.dss with all dss in shared\n",
    "# dss_filename_output = os.path.join(output_path, 'base/Outaouais_long/rss/simulation/simulation.dss')\n",
    "# # shutil.copy2(os.path.join(os.path.dirname(__file__),\n",
    "# #             'templates',\n",
    "# #             'empty.dss'),\n",
    "# #              dss_filename_output)\n",
    "# # alternative_names = [\"%07d.dss\" % (i,) for i in range(1, 101)]\n",
    "# # [_read_dss_values(alternative_basename=alternative_name,\n",
    "# #                   reservoir_id=nom_BV,\n",
    "# #                   base_dir=output_path,\n",
    "# #                   start_date=\"01JAN2001 00:00:00\",\n",
    "# #                   end_date=\"30DEC2001 00:00:00\")\n",
    "# #  for nom_BV in [*routing_config['keys_link'].values()]\n",
    "# #  for alternative_name in alternative_names]\n",
    "\n",
    "# # Run all alternatives in simulation for specific base\n",
    "# output_path_windows = ('C:' + complete_output_path.split('drive_c')[1]).replace('/', '\\\\\\\\')\n",
    "# bm.run_sim(output_path_windows)"
   ]
  },
  {
   "cell_type": "code",
   "execution_count": null,
   "metadata": {},
   "outputs": [],
   "source": [
    "# bm.run_partial_base(chunks[1],\n",
    "#                     os.path.join(output_path,\n",
    "#                                  \"b{:06d}\".format(idx + 2)),\n",
    "#                     routing_config)"
   ]
  },
  {
   "cell_type": "code",
   "execution_count": null,
   "metadata": {},
   "outputs": [],
   "source": [
    "# from pydsstools.heclib.dss import HecDss\n",
    "# from pydsstools.core import TimeSeriesContainer, UNDEFINED\n",
    "\n",
    "# dss_file = '/home/slanglois/.wine/drive_c/users/Public/Documents/projet/02_Calculs/Laminage_STO/02_Bases/b000001/base/Outaouais_long/shared/0000001.dss'\n",
    "\n",
    "# start_date=\"01JAN2001 00:00:00\"\n",
    "# end_date=\"30DEC2001 00:00:00\"\n",
    "\n",
    "# pathname = '/0000001/BARK LAKE//01JAN2000/1DAY/0000001/'\n",
    "\n",
    "# fid = HecDss.Open(dss_file)\n",
    "# ts = fid.read_ts(pathname, window=(start_date, end_date), trim_missing=True)\n",
    "# values = ts.values\n",
    "# fid.close()"
   ]
  },
  {
   "cell_type": "code",
   "execution_count": 5,
   "metadata": {},
   "outputs": [
    {
     "data": {
      "application/vnd.jupyter.widget-view+json": {
       "model_id": "52b2e8759f914d55b544214c50a30b60",
       "version_major": 2,
       "version_minor": 0
      },
      "text/plain": [
       "VBox()"
      ]
     },
     "metadata": {},
     "output_type": "display_data"
    }
   ],
   "source": [
    "csv_output_path = '/media/slanglois/seagate4tb/laminage/02_Bases/03_Resultats'\n",
    "\n",
    "results = bm.run_distributed_simulations(routing_config=routing_config,\n",
    "                                         client=client,\n",
    "                                         csv_output_path=csv_output_path)\n",
    "progress(results)"
   ]
  },
  {
   "cell_type": "code",
   "execution_count": null,
   "metadata": {},
   "outputs": [],
   "source": []
  },
  {
   "cell_type": "code",
   "execution_count": null,
   "metadata": {},
   "outputs": [],
   "source": []
  },
  {
   "cell_type": "code",
   "execution_count": null,
   "metadata": {},
   "outputs": [],
   "source": []
  },
  {
   "cell_type": "code",
   "execution_count": null,
   "metadata": {},
   "outputs": [],
   "source": []
  },
  {
   "cell_type": "code",
   "execution_count": null,
   "metadata": {},
   "outputs": [],
   "source": []
  },
  {
   "cell_type": "code",
   "execution_count": null,
   "metadata": {},
   "outputs": [],
   "source": [
    "os.path.exists(os.path.join(os.environ['HOME'],'.wine/drive_c/Program Files/HEC/HEC-ResSim/3.1/HEC-ResSim.exe'))"
   ]
  },
  {
   "cell_type": "code",
   "execution_count": null,
   "metadata": {},
   "outputs": [],
   "source": [
    "from pathlib import Path\n",
    "\n",
    "hec_res_sim_path = os.path.join(os.environ['HOME'],\n",
    "                                    '.wine/drive_c/Program Files/HEC/HEC-ResSim/3.1/HEC-ResSim.exe1')\n",
    "\n",
    "try:\n",
    "    Path(hec_res_sim_path).resolve(strict=True)\n",
    "except FileNotFoundError:\n",
    "    print('HEC-ResSim.exe not found')\n",
    "    \n",
    "a = 2"
   ]
  },
  {
   "cell_type": "code",
   "execution_count": null,
   "metadata": {},
   "outputs": [],
   "source": [
    "a"
   ]
  },
  {
   "cell_type": "code",
   "execution_count": null,
   "metadata": {},
   "outputs": [],
   "source": [
    "arg2"
   ]
  },
  {
   "cell_type": "code",
   "execution_count": null,
   "metadata": {},
   "outputs": [],
   "source": [
    "arg2 = r\"C:\\\\users\\\\Public\\\\Documents\\\\projet\\\\02_Calculs\\\\Laminage_STO\\\\02_Bases\\\\b000001\\\\base\\\\Outaouais_long\"\n"
   ]
  },
  {
   "cell_type": "code",
   "execution_count": null,
   "metadata": {},
   "outputs": [],
   "source": [
    "arg1 = '/home/slanglois/.wine/drive_c/users/Public/Documents/projet/02_Calculs/Laminage_STO/02_Bases/b000002/base/Outaouais_long'"
   ]
  },
  {
   "cell_type": "code",
   "execution_count": null,
   "metadata": {},
   "outputs": [],
   "source": [
    "arg1"
   ]
  },
  {
   "cell_type": "code",
   "execution_count": null,
   "metadata": {},
   "outputs": [],
   "source": [
    "\"wine '%s'\" % (arg1)"
   ]
  },
  {
   "cell_type": "code",
   "execution_count": null,
   "metadata": {},
   "outputs": [],
   "source": [
    "# import shutil\n",
    "# import os\n",
    "\n",
    "# input_path = '/media/slanglois/ssd-2tb/laminage/projet/01_Intrants/Series_stochastiques/csv/0000001.csv'\n",
    "\n",
    "\n",
    "# for i in range(2,100001):\n",
    "\n",
    "#     output_path = os.path.join('/media/slanglois/ssd-2tb/laminage/projet/01_Intrants/Series_stochastiques/csv',\n",
    "#                                \"{:07d}\".format(i) + '.csv')\n",
    "\n",
    "#     shutil.copy2(input_path, output_path)"
   ]
  },
  {
   "cell_type": "code",
   "execution_count": null,
   "metadata": {},
   "outputs": [],
   "source": [
    "import glob\n",
    "\n",
    "liste = sorted(glob.glob('/media/slanglois/ssd-2tb/laminage/projet/01_Intrants/Series_stochastiques/dss/*.dss'))[100:200]\n",
    "\n",
    "N = int(os.path.basename(liste[0]).split('.')[0])-1\n",
    "\n"
   ]
  },
  {
   "cell_type": "code",
   "execution_count": null,
   "metadata": {},
   "outputs": [],
   "source": [
    "project_path"
   ]
  },
  {
   "cell_type": "code",
   "execution_count": null,
   "metadata": {},
   "outputs": [],
   "source": [
    "from pathlib import Path\n",
    "result = list(Path(project_path).rglob(\"study\"))"
   ]
  },
  {
   "cell_type": "code",
   "execution_count": null,
   "metadata": {},
   "outputs": [],
   "source": [
    "os.path.join(project_path"
   ]
  },
  {
   "cell_type": "code",
   "execution_count": null,
   "metadata": {},
   "outputs": [],
   "source": [
    "result = list(Path('/home/slanglois/.wine/drive_c/users/Public/Documents/projet/02_Calculs/Laminage_STO/02_Bases/b000002').rglob(\"study\"))\n",
    "complete_output_path = os.path.realpath(str(result[0]).split('study')[0])\n",
    "os.path.join(complete_output_path)\n",
    "output_path_windows = ('C:' + complete_output_path.split('drive_c')[1]).replace('/', '\\\\\\\\')\n",
    "os.path.realpath(output_path_windows)"
   ]
  },
  {
   "cell_type": "code",
   "execution_count": null,
   "metadata": {},
   "outputs": [],
   "source": []
  },
  {
   "cell_type": "code",
   "execution_count": null,
   "metadata": {},
   "outputs": [],
   "source": [
    "from pydsstools.heclib.dss import HecDss\n",
    "import matplotlib.pyplot as plt\n",
    "import numpy as np\n",
    "import os\n",
    "\n",
    "\n",
    "\n",
    "def get_simulation_values(alternative_name,\n",
    "                          reservoir_id,\n",
    "                          variable_type,\n",
    "                          base_dir,\n",
    "                          start_date = \"02JAN2001 00:00:00\",\n",
    "                          end_date = \"30JUL2001 00:00:00\"):\n",
    "    \n",
    "    base_name = os.path.basename(base_dir)\n",
    "    # TODO : don't hardcode\n",
    "    dss_file = os.path.join(base_dir,'base/Outaouais_long/rss/simulation/simulation.dss')\n",
    "\n",
    "\n",
    "    pathname = \"//{}-POOL/{}//1DAY/{}/\".format(reservoir_id, \n",
    "                                          variable_type,\n",
    "                                          alternative_name)\n",
    "    fid = HecDss.Open(dss_file)\n",
    "    ts = fid.read_ts(pathname,window=(start_date,end_date),trim_missing=True)\n",
    "#     times = np.array(ts.pytimes)\n",
    "#     times = pd.date_range(start=start_date, end=end_date)\n",
    "    start_date_num = np.datetime64('{}-{:02d}-{}'.format(start_date[5:9], strptime(start_date[2:5],'%b').tm_mon, start_date[0:2]))\n",
    "    end_date_num = np.datetime64('{}-{:02d}-{}'.format(end_date[5:9], strptime(end_date[2:5],'%b').tm_mon, end_date[0:2]))\n",
    "    times = np.arange(start_date_num,end_date_num + np.timedelta64(1,'D'),np.timedelta64(1,'D'), dtype='datetime64')\n",
    "    values = ts.values\n",
    "    fid.close()\n",
    "\n",
    "    member_id = [int(alternative_name[1:-1]) + int(base_name[1:])*100 - 100]*len(values)\n",
    "#     df_serie = pd.DataFrame()\n",
    "#     df_serie['date'] = times\n",
    "#     df_serie['reservoir_id'] = reservoir_id\n",
    "#     df_serie['member_id'] = int(alternative_name[1:-1]) + int(base_name[1:])*100 - 100\n",
    "#     df_serie['value'] = values\n",
    "\n",
    "    d = {'date': times.tolist(), 'reservoir_id': [reservoir_id]*len(values), 'member_id': member_id, 'value': values}\n",
    "\n",
    "    df_serie = pd.concat([pd.Series(v, name=k) for k, v in d.items()], axis=1)\n",
    "    \n",
    "    \n",
    "    return df_serie"
   ]
  },
  {
   "cell_type": "code",
   "execution_count": null,
   "metadata": {},
   "outputs": [],
   "source": [
    "%lprun -f get_simulation_values get_simulation_values(alternative_name, reservoir_id, variable_type,base_dir)"
   ]
  },
  {
   "cell_type": "code",
   "execution_count": null,
   "metadata": {},
   "outputs": [],
   "source": [
    "%%time\n",
    "start_date_num = np.datetime64('{}-{:02d}-{}'.format(start_date[5:9], strptime(start_date[2:5],'%b').tm_mon, start_date[0:2]))\n",
    "end_date_num = np.datetime64('{}-{:02d}-{}'.format(end_date[5:9], strptime(end_date[2:5],'%b').tm_mon, end_date[0:2]))\n",
    "times = np.arange(start_date_num,end_date_num,np.timedelta64(24,'h'), dtype='datetime64')\n",
    "pd.to_datetime(times)"
   ]
  },
  {
   "cell_type": "code",
   "execution_count": null,
   "metadata": {},
   "outputs": [],
   "source": []
  },
  {
   "cell_type": "code",
   "execution_count": null,
   "metadata": {},
   "outputs": [],
   "source": [
    "get_simulation_values(alternative_name, reservoir_id, variable_type,base_dir)"
   ]
  },
  {
   "cell_type": "code",
   "execution_count": null,
   "metadata": {},
   "outputs": [],
   "source": []
  },
  {
   "cell_type": "code",
   "execution_count": null,
   "metadata": {},
   "outputs": [],
   "source": [
    "%%time\n",
    "base = datetime.datetime(2000, 1, 1)\n",
    "arr = np.array([base + datetime.timedelta(days=i) for i in range(24)])"
   ]
  },
  {
   "cell_type": "code",
   "execution_count": null,
   "metadata": {},
   "outputs": [],
   "source": [
    "%%time\n"
   ]
  },
  {
   "cell_type": "code",
   "execution_count": null,
   "metadata": {},
   "outputs": [],
   "source": [
    "%%time\n"
   ]
  },
  {
   "cell_type": "code",
   "execution_count": null,
   "metadata": {},
   "outputs": [],
   "source": [
    "len(timearray)"
   ]
  },
  {
   "cell_type": "code",
   "execution_count": null,
   "metadata": {},
   "outputs": [],
   "source": [
    "from time import strptime\n",
    "%%time\n"
   ]
  },
  {
   "cell_type": "code",
   "execution_count": null,
   "metadata": {},
   "outputs": [],
   "source": [
    "def get_all_values_from_partial_base(alternative_names,\n",
    "                                     variable_type_list,\n",
    "                                     reservoir_list,\n",
    "                                     base_dir,\n",
    "                                     csv_output_path):\n",
    "\n",
    "#     alternatives_chunks = [alternative_names[x:x+10] for x in range(0, len(alternative_names), 10)]\n",
    "#     for alternative_chunk in alternatives_chunks:\n",
    "    df = pd.concat([get_simulation_values(alternative_name,\n",
    "                                          reservoir_id,\n",
    "                                          variable_type,\n",
    "                                          base_dir)\n",
    "                    for alternative_name in alternative_names\n",
    "                    for variable_type in variable_type_list \n",
    "                    for reservoir_id in reservoir_list])\n",
    "    df.to_csv(os.path.join(csv_output_path, 'simulations_' + \"{:07d}\".format(df['member_id'].min()) + '_' \n",
    "                           + \"{:07d}\".format(df['member_id'].max()) + '.csv'), index=False)\n",
    "        \n"
   ]
  },
  {
   "cell_type": "code",
   "execution_count": null,
   "metadata": {},
   "outputs": [],
   "source": [
    "import pandas as pd"
   ]
  },
  {
   "cell_type": "code",
   "execution_count": null,
   "metadata": {},
   "outputs": [],
   "source": [
    "%load_ext line_profiler"
   ]
  },
  {
   "cell_type": "code",
   "execution_count": null,
   "metadata": {},
   "outputs": [],
   "source": [
    "end_date = \"30JUL2001 00:00:00\""
   ]
  },
  {
   "cell_type": "code",
   "execution_count": null,
   "metadata": {},
   "outputs": [],
   "source": [
    "pd.date_range(start=start_date, end=end_date)"
   ]
  },
  {
   "cell_type": "code",
   "execution_count": null,
   "metadata": {},
   "outputs": [],
   "source": [
    "%%time\n",
    "\n",
    "alternative_names = ['M' + \"%09d0\" % (i,) for i in range(1,101)]\n",
    "\n",
    "\n",
    "csv_output_path = '/home/slanglois/.wine/drive_c/users/Public/Documents/projet/02_Calculs/Laminage_STO/03_Resultats'\n",
    "base_dir = '/home/slanglois/.wine/drive_c/users/Public/Documents/projet/02_Calculs/Laminage_STO/02_Bases/b000042'\n",
    "\n",
    "get_all_values_from_partial_base(alternative_names=alternative_names,\n",
    "                                 variable_type_list=routing_config['variable_type_list'],\n",
    "                                 reservoir_list=routing_config['reservoir_list'],\n",
    "                                 base_dir=base_dir,\n",
    "                                 csv_output_path=csv_output_path)"
   ]
  },
  {
   "cell_type": "code",
   "execution_count": null,
   "metadata": {},
   "outputs": [],
   "source": []
  },
  {
   "cell_type": "code",
   "execution_count": null,
   "metadata": {},
   "outputs": [],
   "source": [
    "get_simulation_values(alternative_name, reservoir_id, variable_type,base_dir)"
   ]
  },
  {
   "cell_type": "code",
   "execution_count": null,
   "metadata": {},
   "outputs": [],
   "source": []
  },
  {
   "cell_type": "code",
   "execution_count": null,
   "metadata": {},
   "outputs": [],
   "source": [
    "%%time\n",
    "base_name = os.path.basename(base_dir)\n",
    "# TODO : don't hardcode\n",
    "dss_file = os.path.join(base_dir,'base/Outaouais_long/rss/simulation/simulation.dss')\n",
    "start_date = \"01JAN2001 00:00:00\"\n",
    "end_date = \"30JUL2001 00:00:00\"\n",
    "\n",
    "alternative_names=alternative_names\n",
    "variable_type_list=routing_config['variable_type_list']\n",
    "reservoir_list=routing_config['reservoir_list']\n",
    "\n",
    "\n",
    "pathname = \"//{}-POOL/{}//1DAY/{}/\".format(reservoir_id, \n",
    "                                      variable_type,\n",
    "                                      alternative_name)\n",
    "\n",
    "startDate = start_date\n",
    "endDate = end_date\n",
    "\n",
    "fid = HecDss.Open(dss_file)\n",
    "ts = fid.read_ts(pathname,window=(startDate,endDate),trim_missing=True)\n",
    "ts2 = fid.read_ts(pathname2,window=(startDate,endDate),trim_missing=True)\n",
    "\n",
    "# times = np.array(ts.pytimes)\n",
    "values = ts.values\n",
    "fid.close()\n",
    "\n"
   ]
  },
  {
   "cell_type": "code",
   "execution_count": null,
   "metadata": {},
   "outputs": [],
   "source": [
    "%%time\n"
   ]
  },
  {
   "cell_type": "code",
   "execution_count": null,
   "metadata": {},
   "outputs": [],
   "source": []
  },
  {
   "cell_type": "code",
   "execution_count": null,
   "metadata": {},
   "outputs": [],
   "source": [
    "ts.pytimes"
   ]
  },
  {
   "cell_type": "code",
   "execution_count": null,
   "metadata": {},
   "outputs": [],
   "source": [
    "df_serie = pd.DataFrame()\n",
    "df_serie['date'] = times\n",
    "df_serie['reservoir_id'] = reservoir_id\n",
    "df_serie['member_id'] = int(alternative_name[1:-1]) + int(base_name[1:])*100 - 100\n",
    "df_serie['value'] = values"
   ]
  },
  {
   "cell_type": "code",
   "execution_count": null,
   "metadata": {},
   "outputs": [],
   "source": [
    "p"
   ]
  }
 ],
 "metadata": {
  "kernelspec": {
   "display_name": "laminage",
   "language": "python",
   "name": "laminage"
  },
  "language_info": {
   "codemirror_mode": {
    "name": "ipython",
    "version": 3
   },
   "file_extension": ".py",
   "mimetype": "text/x-python",
   "name": "python",
   "nbconvert_exporter": "python",
   "pygments_lexer": "ipython3",
   "version": "3.8.5"
  }
 },
 "nbformat": 4,
 "nbformat_minor": 2
}
