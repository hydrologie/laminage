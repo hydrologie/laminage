{
 "cells": [
  {
   "cell_type": "markdown",
   "metadata": {},
   "source": [
    "# Préparation des intrants et simulations à large échelle dans HEC-ResSim"
   ]
  },
  {
   "cell_type": "markdown",
   "metadata": {},
   "source": [
    "### Réalisé par Sébastien Langlois"
   ]
  },
  {
   "cell_type": "code",
   "execution_count": 1,
   "metadata": {},
   "outputs": [],
   "source": [
    "import os\n",
    "\n",
    "project_path = '/media/slanglois/ssd-2tb/laminage/projet/'\n",
    "\n",
    "csv_directory = os.path.join(project_directory,'01_Intrants/Series_stochastiques/csv/*.csv')\n",
    "source_config_file = os.path.join(project_directory,\n",
    "                         '02_Calculs/Laminage_STO/01_Modele_ResSIM_reference/rss.conf')\n",
    "ralt_file = os.path.join(project_directory,\n",
    "                         '02_Calculs/Laminage_STO/01_Modele_ResSIM_reference/inputs/AMPNPC01OS.ralt')\n",
    "\n",
    "type_series = 'STO'\n",
    "\n",
    "nom_BV_hec=['Inflow Mitchinamecus','Inflow Kiamika','Inflow Mont-Laurier',\n",
    "    'Inflow Cedar','Inflow High Falls','Inflow Petite Nation','Inflow Masson',\n",
    "    'Inflow Rideau','Inflow South Nation','Inflow Cabonga','Inflow Baskatong',\n",
    "    'Inflow Paugan','Inflow Arnprior','Inflow Mountain Chute','Inflow Kamaniskeg',\n",
    "    'Inflow Bark Lake','Inflow Dumoine','Inflow Mattawa',\n",
    "    'Inflow Joachims','Inflow Otto Holden','Inflow Kipawa','Inflow Dozois',\n",
    "    'Inflow Victoria','Inflow Rapide 7','Inflow Rapide 2','Inflow Rabbit Lake',\n",
    "    'Inflow Lower Notch','Inflow Lady Evelyn','Inflow Mistinikon','Inflow Blanche',\n",
    "    'Inflow Temiscamingue','Inflow Maniwaki','Inflow Chelsea','Inflow Carillon',\n",
    "    'Inflow Kinojevis','Inflow des Quinze (Anglier)','Inflow Petawawa','Inflow Chenaux et Noire',\n",
    "    'Inflow Coulonge','Inflow Bonnechere','Inflow Chat Falls','Inflow Mississippi',\n",
    "    'Inflow Rouge']\n",
    "\n",
    "nom_BV_dss = ['MITCHINAMECUS','KIAMIKA','MONT-LAURIER','LAC DU POISSON BLANC',\n",
    "    'HIGH FALLS','RIVIERE PETITE NATION','MASSON','RIVIERE RIDEAU',\n",
    "    'RIVIERE SOUTH NATION','CABONGA','BASKATONG','PAUGAN',\n",
    "    'MADAWASKA-ARNPRIOR','MOUNTAIN CHUTE','KAMANISKEG','BARK LAKE',\n",
    "    'RIVIERE DUMOINE','RIVIERE MATTAWA','DES JOACHIMS','OTTO HOLDEN',\n",
    "    'KIPAWA','DOZOIS','LAC VICTORIA ET LAC GRANET','RAPIDE 7',\n",
    "    'RAPIDE 2','RABBIT LAKE','LOWER NOTCH ET INDIAN CHUTE','LADY EVELYN',\n",
    "    'MISTINIKON','RIVIERE BLANCHE','LAC TEMISCAMINGUE A ANGLIERS','MANIWAKI',\n",
    "    'CHELSEA','CARILLON ET HULL','RIVIERE KINOJEVIS','LAC DES QUINZE',\n",
    "    'RIVIERE PETAWAWA','CHENAUX ET NOIRE','RIVIERE COULONGE','RIVIERE BONNECHERE',\n",
    "    'CHUTE-DES-CHATS','RIVIERE MISSISSIPPI','RIVIERE ROUGE']\n",
    "\n",
    "keys_link = dict(zip(nom_BV_hec, nom_BV_dss))\n",
    "\n",
    "routing_config = {'type_series':type_series,\n",
    "                  'keys_link':keys_link,\n",
    "                  'source_ralt_file':ralt_file,\n",
    "                  'source_config_file':source_config_file}\n",
    "\n",
    "\n",
    "cluster_config = False"
   ]
  },
  {
   "cell_type": "markdown",
   "metadata": {},
   "source": [
    " "
   ]
  },
  {
   "cell_type": "code",
   "execution_count": 2,
   "metadata": {},
   "outputs": [],
   "source": [
    "from dask.distributed import Client, progress\n",
    "from dask_jobqueue import SLURMCluster\n",
    "import sys\n",
    "\n",
    "# Local functions\n",
    "sys.path.append(os.path.abspath(os.path.join('..')))\n",
    "import laminage as lm"
   ]
  },
  {
   "cell_type": "markdown",
   "metadata": {},
   "source": [
    "## Client Dask"
   ]
  },
  {
   "cell_type": "code",
   "execution_count": 3,
   "metadata": {},
   "outputs": [
    {
     "data": {
      "application/vnd.jupyter.widget-view+json": {
       "model_id": "8b014d18b1bd43719ad2e0bbcae7241d",
       "version_major": 2,
       "version_minor": 0
      },
      "text/plain": [
       "VBox(children=(HTML(value='<h2>LocalCluster</h2>'), HBox(children=(HTML(value='\\n<div>\\n  <style scoped>\\n    …"
      ]
     },
     "metadata": {},
     "output_type": "display_data"
    }
   ],
   "source": [
    "# change to SLURMCluster for distributed calculation\n",
    "\n",
    "client =  Client()\n",
    "client.cluster"
   ]
  },
  {
   "cell_type": "code",
   "execution_count": 4,
   "metadata": {},
   "outputs": [],
   "source": [
    "bm = lm.BaseManager(project_path=project_path)"
   ]
  },
  {
   "cell_type": "code",
   "execution_count": 7,
   "metadata": {},
   "outputs": [
    {
     "data": {
      "application/vnd.jupyter.widget-view+json": {
       "model_id": "32078b49128e4d7abc5f2b1d234f06bd",
       "version_major": 2,
       "version_minor": 0
      },
      "text/plain": [
       "VBox()"
      ]
     },
     "metadata": {},
     "output_type": "display_data"
    }
   ],
   "source": [
    "results = bm.csv_to_dss(csv_directory=csv_directory,\n",
    "                        client=client)\n",
    "progress(results)"
   ]
  },
  {
   "cell_type": "code",
   "execution_count": 8,
   "metadata": {},
   "outputs": [
    {
     "data": {
      "application/vnd.jupyter.widget-view+json": {
       "model_id": "d1806f7ea0c54f12be7a9f578eb0051a",
       "version_major": 2,
       "version_minor": 0
      },
      "text/plain": [
       "VBox()"
      ]
     },
     "metadata": {},
     "output_type": "display_data"
    }
   ],
   "source": [
    "results = bm.create_distributed_base(routing_config=routing_config,\n",
    "                          client=client)\n",
    "progress(results)"
   ]
  },
  {
   "cell_type": "code",
   "execution_count": null,
   "metadata": {},
   "outputs": [],
   "source": []
  }
 ],
 "metadata": {
  "kernelspec": {
   "display_name": "laminage",
   "language": "python",
   "name": "laminage"
  },
  "language_info": {
   "codemirror_mode": {
    "name": "ipython",
    "version": 3
   },
   "file_extension": ".py",
   "mimetype": "text/x-python",
   "name": "python",
   "nbconvert_exporter": "python",
   "pygments_lexer": "ipython3",
   "version": "3.7.6"
  }
 },
 "nbformat": 4,
 "nbformat_minor": 2
}
