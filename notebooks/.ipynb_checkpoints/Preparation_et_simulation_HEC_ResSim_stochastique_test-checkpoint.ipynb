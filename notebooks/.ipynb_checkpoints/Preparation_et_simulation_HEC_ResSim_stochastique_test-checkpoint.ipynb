{
 "cells": [
  {
   "cell_type": "markdown",
   "metadata": {},
   "source": [
    "# Préparation des intrants et simulations à large échelle dans HEC-ResSim"
   ]
  },
  {
   "cell_type": "markdown",
   "metadata": {},
   "source": [
    "### Réalisé par Sébastien Langlois"
   ]
  },
  {
   "cell_type": "code",
   "execution_count": 1,
   "metadata": {},
   "outputs": [],
   "source": [
    "import os\n",
    "\n",
    "project_path = '/home/sebastien/.wine/drive_c/users/sebastien/Documents/projet/'\n",
    "\n",
    "csv_directory = os.path.join(project_path,'01_Intrants/Series_stochastiques/csv/*.csv')\n",
    "source_config_file = os.path.join(project_path,\n",
    "                         '02_Calculs/Laminage_STO/01_Modele_ResSIM_reference/rss.conf')\n",
    "ralt_file = os.path.join(project_path,\n",
    "                         '02_Calculs/Laminage_STO/01_Modele_ResSIM_reference/inputs/10P07BV.ralt')\n",
    "\n",
    "type_series = 'STO'\n",
    "\n",
    "nom_BV_hec=['Inflow Mitchinamecus','Inflow Kiamika','Inflow Mont-Laurier',\n",
    "    'Inflow Cedar','Inflow High Falls','Inflow Petite Nation','Inflow Masson',\n",
    "    'Inflow Rideau','Inflow South Nation','Inflow Cabonga','Inflow Baskatong',\n",
    "    'Inflow Paugan','Inflow Arnprior','Inflow Mountain Chute','Inflow Kamaniskeg',\n",
    "    'Inflow Bark Lake','Inflow Dumoine','Inflow Mattawa',\n",
    "    'Inflow Joachims','Inflow Otto Holden','Inflow Kipawa','Inflow Dozois',\n",
    "    'Inflow Victoria','Inflow Rapide 7','Inflow Rapide 2','Inflow Rabbit Lake',\n",
    "    'Inflow Lower Notch','Inflow Lady Evelyn','Inflow Mistinikon','Inflow Blanche',\n",
    "    'Inflow Temiscamingue','Inflow Maniwaki','Inflow Chelsea','Inflow Carillon',\n",
    "    'Inflow Kinojevis','Inflow des Quinze (Anglier)','Inflow Petawawa','Inflow Chenaux et Noire',\n",
    "    'Inflow Coulonge','Inflow Bonnechere','Inflow Chat Falls','Inflow Mississippi',\n",
    "    'Inflow Rouge']\n",
    "\n",
    "nom_BV_dss = ['MITCHINAMECUS','KIAMIKA','MONT-LAURIER','LAC DU POISSON BLANC',\n",
    "    'HIGH FALLS','RIVIERE PETITE NATION','MASSON','RIVIERE RIDEAU',\n",
    "    'RIVIERE SOUTH NATION','CABONGA','BASKATONG','PAUGAN',\n",
    "    'MADAWASKA-ARNPRIOR','MOUNTAIN CHUTE','KAMANISKEG','BARK LAKE',\n",
    "    'RIVIERE DUMOINE','RIVIERE MATTAWA','DES JOACHIMS','OTTO HOLDEN',\n",
    "    'KIPAWA','DOZOIS','LAC VICTORIA ET LAC GRANET','RAPIDE 7',\n",
    "    'RAPIDE 2','RABBIT LAKE','LOWER NOTCH ET INDIAN CHUTE','LADY EVELYN',\n",
    "    'MISTINIKON','RIVIERE BLANCHE','LAC TEMISCAMINGUE A ANGLIERS','MANIWAKI',\n",
    "    'CHELSEA','CARILLON ET HULL','RIVIERE KINOJEVIS','LAC DES QUINZE',\n",
    "    'RIVIERE PETAWAWA','CHENAUX ET NOIRE','RIVIERE COULONGE','RIVIERE BONNECHERE',\n",
    "    'CHUTE-DES-CHATS','RIVIERE MISSISSIPPI','RIVIERE ROUGE']\n",
    "\n",
    "keys_link = dict(zip(nom_BV_hec, nom_BV_dss))\n",
    "\n",
    "routing_config = {'type_series':type_series,\n",
    "                  'keys_link':keys_link,\n",
    "                  'source_ralt_file':ralt_file,\n",
    "                  'source_config_file':source_config_file}\n",
    "\n",
    "\n",
    "cluster_config = False"
   ]
  },
  {
   "cell_type": "code",
   "execution_count": 2,
   "metadata": {},
   "outputs": [],
   "source": [
    "import pandas as pd"
   ]
  },
  {
   "cell_type": "markdown",
   "metadata": {},
   "source": [
    " "
   ]
  },
  {
   "cell_type": "code",
   "execution_count": 2,
   "metadata": {},
   "outputs": [],
   "source": [
    "from distributed import Client, progress\n",
    "from dask_jobqueue import SLURMCluster\n",
    "import sys\n",
    "\n",
    "# # Local functions\n",
    "# sys.path.append(os.path.abspath(os.path.join('..')))\n",
    "import laminage as lm"
   ]
  },
  {
   "cell_type": "markdown",
   "metadata": {},
   "source": [
    "## Client Dask"
   ]
  },
  {
   "cell_type": "code",
   "execution_count": 3,
   "metadata": {},
   "outputs": [
    {
     "name": "stderr",
     "output_type": "stream",
     "text": [
      "/opt/anaconda/share/jupyter/kernels/laminage/lib/python3.8/site-packages/distributed/node.py:151: UserWarning: Port 8787 is already in use.\n",
      "Perhaps you already have a cluster running?\n",
      "Hosting the HTTP server on port 46603 instead\n",
      "  warnings.warn(\n"
     ]
    },
    {
     "data": {
      "application/vnd.jupyter.widget-view+json": {
       "model_id": "4dcd39b6b0fa469999987081018a6be6",
       "version_major": 2,
       "version_minor": 0
      },
      "text/plain": [
       "VBox(children=(HTML(value='<h2>LocalCluster</h2>'), HBox(children=(HTML(value='\\n<div>\\n  <style scoped>\\n    …"
      ]
     },
     "metadata": {},
     "output_type": "display_data"
    }
   ],
   "source": [
    "# change to SLURMCluster for distributed calculation\n",
    "from dask_jobqueue import SLURMCluster\n",
    "from distributed import Client\n",
    "from dask import delayed\n",
    "import dask.array as da\n",
    "\n",
    "# cluster = SLURMCluster(cores=24,             # Number of cores per job\n",
    "#                        memory='100GB',       # Amount of memory per job\n",
    "#                        # Job scheduler specific keywords\n",
    "#                        walltime='01:00:00',\n",
    "#                        queue=\"parallel_24\")\n",
    "\n",
    "# cluster.adapt(minimum=4, maximum=100)\n",
    "\n",
    "\n",
    "# client =  Client(cluster)\n",
    "\n",
    "\n",
    "client =  Client()\n",
    "client.cluster"
   ]
  },
  {
   "cell_type": "code",
   "execution_count": null,
   "metadata": {},
   "outputs": [],
   "source": []
  },
  {
   "cell_type": "code",
   "execution_count": 4,
   "metadata": {},
   "outputs": [],
   "source": [
    "bm = lm.BaseManager(project_path=project_path)"
   ]
  },
  {
   "cell_type": "code",
   "execution_count": 5,
   "metadata": {},
   "outputs": [],
   "source": [
    "lm.hec.csvtodss._csv_to_dss('/home/sebastien/.wine/drive_c/users/sebastien/Documents/projet/01_Intrants/Series_stochastiques/csv/0019947.csv',\n",
    "                                    '/home/sebastien/.wine/drive_c/users/sebastien/Documents/projet/01_Intrants/Series_stochastiques/dss/0019947.dss')"
   ]
  },
  {
   "cell_type": "code",
   "execution_count": 6,
   "metadata": {},
   "outputs": [
    {
     "data": {
      "application/vnd.jupyter.widget-view+json": {
       "model_id": "96c51ea9de35456dbc893d1181d5a2c9",
       "version_major": 2,
       "version_minor": 0
      },
      "text/plain": [
       "VBox()"
      ]
     },
     "metadata": {},
     "output_type": "display_data"
    }
   ],
   "source": [
    "results = bm.csv_to_dss(csv_directory=csv_directory,\n",
    "                        client=client)\n",
    "progress(results)"
   ]
  },
  {
   "cell_type": "code",
   "execution_count": 5,
   "metadata": {},
   "outputs": [
    {
     "data": {
      "application/vnd.jupyter.widget-view+json": {
       "model_id": "31cc07accd104c1489edb8a42bbf4796",
       "version_major": 2,
       "version_minor": 0
      },
      "text/plain": [
       "VBox()"
      ]
     },
     "metadata": {},
     "output_type": "display_data"
    }
   ],
   "source": [
    "results = bm.create_distributed_base(routing_config=routing_config,\n",
    "                                     client=client)\n",
    "progress(results)"
   ]
  },
  {
   "cell_type": "code",
   "execution_count": 10,
   "metadata": {},
   "outputs": [],
   "source": []
  },
  {
   "cell_type": "code",
   "execution_count": 2,
   "metadata": {},
   "outputs": [],
   "source": [
    "import shutil\n",
    "import os\n",
    "\n",
    "input_path = '/home/sebastien/.wine/drive_c/users/sebastien/Documents/projet/01_Intrants/Series_stochastiques/csv/0000001.csv'\n",
    "\n",
    "\n",
    "for i in range(2,20000):\n",
    "\n",
    "    output_path = os.path.join('/home/sebastien/.wine/drive_c/users/sebastien/Documents/projet/01_Intrants/Series_stochastiques/csv',\n",
    "                               \"{:07d}\".format(i) + '.csv')\n",
    "\n",
    "    shutil.copy2(input_path, output_path)"
   ]
  },
  {
   "cell_type": "code",
   "execution_count": 35,
   "metadata": {},
   "outputs": [],
   "source": [
    "import glob\n",
    "\n",
    "liste = sorted(glob.glob('/media/slanglois/ssd-2tb/laminage/projet/01_Intrants/Series_stochastiques/dss/*.dss'))[100:200]\n",
    "\n",
    "N = int(os.path.basename(liste[0]).split('.')[0])-1\n",
    "\n"
   ]
  },
  {
   "cell_type": "code",
   "execution_count": 40,
   "metadata": {},
   "outputs": [
    {
     "data": {
      "text/plain": [
       "['0000001.dss',\n",
       " '0000002.dss',\n",
       " '0000003.dss',\n",
       " '0000004.dss',\n",
       " '0000005.dss',\n",
       " '0000006.dss',\n",
       " '0000007.dss',\n",
       " '0000008.dss',\n",
       " '0000009.dss',\n",
       " '0000010.dss',\n",
       " '0000011.dss',\n",
       " '0000012.dss',\n",
       " '0000013.dss',\n",
       " '0000014.dss',\n",
       " '0000015.dss',\n",
       " '0000016.dss',\n",
       " '0000017.dss',\n",
       " '0000018.dss',\n",
       " '0000019.dss',\n",
       " '0000020.dss',\n",
       " '0000021.dss',\n",
       " '0000022.dss',\n",
       " '0000023.dss',\n",
       " '0000024.dss',\n",
       " '0000025.dss',\n",
       " '0000026.dss',\n",
       " '0000027.dss',\n",
       " '0000028.dss',\n",
       " '0000029.dss',\n",
       " '0000030.dss',\n",
       " '0000031.dss',\n",
       " '0000032.dss',\n",
       " '0000033.dss',\n",
       " '0000034.dss',\n",
       " '0000035.dss',\n",
       " '0000036.dss',\n",
       " '0000037.dss',\n",
       " '0000038.dss',\n",
       " '0000039.dss',\n",
       " '0000040.dss',\n",
       " '0000041.dss',\n",
       " '0000042.dss',\n",
       " '0000043.dss',\n",
       " '0000044.dss',\n",
       " '0000045.dss',\n",
       " '0000046.dss',\n",
       " '0000047.dss',\n",
       " '0000048.dss',\n",
       " '0000049.dss',\n",
       " '0000050.dss',\n",
       " '0000051.dss',\n",
       " '0000052.dss',\n",
       " '0000053.dss',\n",
       " '0000054.dss',\n",
       " '0000055.dss',\n",
       " '0000056.dss',\n",
       " '0000057.dss',\n",
       " '0000058.dss',\n",
       " '0000059.dss',\n",
       " '0000060.dss',\n",
       " '0000061.dss',\n",
       " '0000062.dss',\n",
       " '0000063.dss',\n",
       " '0000064.dss',\n",
       " '0000065.dss',\n",
       " '0000066.dss',\n",
       " '0000067.dss',\n",
       " '0000068.dss',\n",
       " '0000069.dss',\n",
       " '0000070.dss',\n",
       " '0000071.dss',\n",
       " '0000072.dss',\n",
       " '0000073.dss',\n",
       " '0000074.dss',\n",
       " '0000075.dss',\n",
       " '0000076.dss',\n",
       " '0000077.dss',\n",
       " '0000078.dss',\n",
       " '0000079.dss',\n",
       " '0000080.dss',\n",
       " '0000081.dss',\n",
       " '0000082.dss',\n",
       " '0000083.dss',\n",
       " '0000084.dss',\n",
       " '0000085.dss',\n",
       " '0000086.dss',\n",
       " '0000087.dss',\n",
       " '0000088.dss',\n",
       " '0000089.dss',\n",
       " '0000090.dss',\n",
       " '0000091.dss',\n",
       " '0000092.dss',\n",
       " '0000093.dss',\n",
       " '0000094.dss',\n",
       " '0000095.dss',\n",
       " '0000096.dss',\n",
       " '0000097.dss',\n",
       " '0000098.dss',\n",
       " '0000099.dss',\n",
       " '0000100.dss']"
      ]
     },
     "execution_count": 40,
     "metadata": {},
     "output_type": "execute_result"
    }
   ],
   "source": []
  },
  {
   "cell_type": "code",
   "execution_count": null,
   "metadata": {},
   "outputs": [],
   "source": []
  },
  {
   "cell_type": "code",
   "execution_count": null,
   "metadata": {},
   "outputs": [],
   "source": []
  },
  {
   "cell_type": "code",
   "execution_count": null,
   "metadata": {},
   "outputs": [],
   "source": []
  }
 ],
 "metadata": {
  "kernelspec": {
   "display_name": "laminage",
   "language": "python",
   "name": "laminage"
  },
  "language_info": {
   "codemirror_mode": {
    "name": "ipython",
    "version": 3
   },
   "file_extension": ".py",
   "mimetype": "text/x-python",
   "name": "python",
   "nbconvert_exporter": "python",
   "pygments_lexer": "ipython3",
   "version": "3.8.2"
  }
 },
 "nbformat": 4,
 "nbformat_minor": 2
}
