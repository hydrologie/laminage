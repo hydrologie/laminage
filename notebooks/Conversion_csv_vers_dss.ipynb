{
 "cells": [
  {
   "cell_type": "markdown",
   "metadata": {},
   "source": [
    "# Conversion csv vers dss"
   ]
  },
  {
   "cell_type": "markdown",
   "metadata": {},
   "source": [
    "### Réalisé par Sébastien Langlois"
   ]
  },
  {
   "cell_type": "markdown",
   "metadata": {},
   "source": [
    "Descriptif"
   ]
  },
  {
   "cell_type": "code",
   "execution_count": 1,
   "metadata": {},
   "outputs": [],
   "source": [
    "csv_directory = '/media/slanglois/ssd-2tb/laminage/csv/*.csv'\n",
    "output_path = '/media/slanglois/ssd-2tb/laminage/dss/'\n",
    "reseau_euler = False"
   ]
  },
  {
   "cell_type": "markdown",
   "metadata": {},
   "source": [
    " "
   ]
  },
  {
   "cell_type": "code",
   "execution_count": 9,
   "metadata": {},
   "outputs": [],
   "source": [
    "import glob\n",
    "import sys\n",
    "import os\n",
    "from dask.distributed import Client, progress\n",
    "import dask\n",
    "from dask_jobqueue import SLURMCluster\n",
    "\n",
    "# Local functions\n",
    "sys.path.append(os.path.abspath(os.path.join('..')))\n",
    "import laminage as lm"
   ]
  },
  {
   "cell_type": "code",
   "execution_count": 3,
   "metadata": {},
   "outputs": [
    {
     "data": {
      "text/html": [
       "<table style=\"border: 2px solid white;\">\n",
       "<tr>\n",
       "<td style=\"vertical-align: top; border: 0px solid white\">\n",
       "<h3 style=\"text-align: left;\">Client</h3>\n",
       "<ul style=\"text-align: left; list-style: none; margin: 0; padding: 0;\">\n",
       "  <li><b>Scheduler: </b>tcp://127.0.0.1:35507</li>\n",
       "  <li><b>Dashboard: </b><a href='http://127.0.0.1:8787/status' target='_blank'>http://127.0.0.1:8787/status</a></li>\n",
       "</ul>\n",
       "</td>\n",
       "<td style=\"vertical-align: top; border: 0px solid white\">\n",
       "<h3 style=\"text-align: left;\">Cluster</h3>\n",
       "<ul style=\"text-align: left; list-style:none; margin: 0; padding: 0;\">\n",
       "  <li><b>Workers: </b>8</li>\n",
       "  <li><b>Cores: </b>32</li>\n",
       "  <li><b>Memory: </b>135.11 GB</li>\n",
       "</ul>\n",
       "</td>\n",
       "</tr>\n",
       "</table>"
      ],
      "text/plain": [
       "<Client: 'tcp://127.0.0.1:35507' processes=8 threads=32, memory=135.11 GB>"
      ]
     },
     "execution_count": 3,
     "metadata": {},
     "output_type": "execute_result"
    }
   ],
   "source": [
    "if reseau_euler:\n",
    "    # à modifier lorsque dans le réseau Euler/Euler2\n",
    "    cluster = SLURMCluster(cores=8,\n",
    "                           processes=4,\n",
    "                           memory=\"16GB\",\n",
    "                           project=\"woodshole\",\n",
    "                           walltime=\"01:00:00\",\n",
    "                           queue=\"normal\")\n",
    "    client = Client(cluster)\n",
    "else:\n",
    "    client = Client()\n",
    "\n",
    "client"
   ]
  },
  {
   "cell_type": "code",
   "execution_count": 5,
   "metadata": {},
   "outputs": [],
   "source": [
    "lazy_results = [dask.delayed(lm.csv_to_dss)(filename, output_path) \n",
    "                for filename in glob.glob(csv_directory)]"
   ]
  },
  {
   "cell_type": "code",
   "execution_count": 6,
   "metadata": {},
   "outputs": [],
   "source": [
    "dask.compute(*lazy_results);"
   ]
  },
  {
   "cell_type": "code",
   "execution_count": null,
   "metadata": {},
   "outputs": [],
   "source": []
  },
  {
   "cell_type": "code",
   "execution_count": null,
   "metadata": {},
   "outputs": [
    {
     "name": "stdout",
     "output_type": "stream",
     "text": [
      "{'TS': ['/00089250/CANIAPISCAU//01JAN2000/1DAY/00089250/', '/00089250/CANIAPISCAU//01JAN2001/1DAY/00089250/', '/00089250/EASTMAIN-1//01JAN2000/1DAY/00089250/', '/00089250/EASTMAIN-1//01JAN2001/1DAY/00089250/', '/00089250/LA_GRANDE-1//01JAN2000/1DAY/00089250/', '/00089250/LA_GRANDE-1//01JAN2001/1DAY/00089250/', '/00089250/ROBERT-BOURASSA//01JAN2000/1DAY/00089250/', '/00089250/ROBERT-BOURASSA//01JAN2001/1DAY/00089250/', '/00089250/SAKAMI//01JAN2000/1DAY/00089250/', '/00089250/SAKAMI//01JAN2001/1DAY/00089250/', '/00089250/LA_GRANDE-3//01JAN2000/1DAY/00089250/', '/00089250/LA_GRANDE-3//01JAN2001/1DAY/00089250/', '/00089250/LA_GRANDE-4//01JAN2000/1DAY/00089250/', '/00089250/LA_GRANDE-4//01JAN2001/1DAY/00089250/', '/00089250/MESGOUEZ//01JAN2000/1DAY/00089250/', '/00089250/MESGOUEZ//01JAN2001/1DAY/00089250/', '/00089250/MISTASSINI//01JAN2000/1DAY/00089250/', '/00089250/MISTASSINI//01JAN2001/1DAY/00089250/', '/00089250/EOL//01JAN2000/1DAY/00089250/', '/00089250/EOL//01JAN2001/1DAY/00089250/', '/00089250/LAFORGE-1//01JAN2000/1DAY/00089250/', '/00089250/LAFORGE-1//01JAN2001/1DAY/00089250/', '/00089250/LAFORGE-2//01JAN2000/1DAY/00089250/', '/00089250/LAFORGE-2//01JAN2001/1DAY/00089250/', '/00089250/RUPERT_AMONT//01JAN2000/1DAY/00089250/', '/00089250/RUPERT_AMONT//01JAN2001/1DAY/00089250/', '/00089250/RUPERT_AVAL//01JAN2000/1DAY/00089250/', '/00089250/RUPERT_AVAL//01JAN2001/1DAY/00089250/'], 'RTS': [], 'ITS': [], 'PD': [], 'GRID': [], 'OTHER': []}\n",
      "/00089250/CANIAPISCAU//01Jan2000 - 01Jan2001/1DAY/00089250/\n",
      "TS\n",
      "/00089250/CANIAPISCAU//01Jan2000 - 01Jan2001/1DAY/00089250/\n",
      "TS\n"
     ]
    }
   ],
   "source": [
    "from dssvue.main import show\n",
    "show(glob.glob(os.path.join(output_path,'*.dss'))[0])"
   ]
  },
  {
   "cell_type": "code",
   "execution_count": 11,
   "metadata": {},
   "outputs": [],
   "source": [
    "a=glob.glob(os.path.join(output_path,'*.dss'))"
   ]
  },
  {
   "cell_type": "code",
   "execution_count": null,
   "metadata": {},
   "outputs": [],
   "source": []
  },
  {
   "cell_type": "code",
   "execution_count": null,
   "metadata": {},
   "outputs": [],
   "source": []
  }
 ],
 "metadata": {
  "kernelspec": {
   "display_name": "laminage",
   "language": "python",
   "name": "laminage"
  },
  "language_info": {
   "codemirror_mode": {
    "name": "ipython",
    "version": 3
   },
   "file_extension": ".py",
   "mimetype": "text/x-python",
   "name": "python",
   "nbconvert_exporter": "python",
   "pygments_lexer": "ipython3",
   "version": "3.7.6"
  }
 },
 "nbformat": 4,
 "nbformat_minor": 2
}
